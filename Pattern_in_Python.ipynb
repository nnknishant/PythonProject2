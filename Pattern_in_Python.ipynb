{
  "nbformat": 4,
  "nbformat_minor": 0,
  "metadata": {
    "colab": {
      "provenance": [],
      "authorship_tag": "ABX9TyOwBB3cRl6EV7OdM1id6PCR",
      "include_colab_link": true
    },
    "kernelspec": {
      "name": "python3",
      "display_name": "Python 3"
    },
    "language_info": {
      "name": "python"
    }
  },
  "cells": [
    {
      "cell_type": "markdown",
      "metadata": {
        "id": "view-in-github",
        "colab_type": "text"
      },
      "source": [
        "<a href=\"https://colab.research.google.com/github/nnknishant/PythonProject2/blob/master/Pattern_in_Python.ipynb\" target=\"_parent\"><img src=\"https://colab.research.google.com/assets/colab-badge.svg\" alt=\"Open In Colab\"/></a>"
      ]
    },
    {
      "cell_type": "code",
      "source": [
        "s = int(input(\"Enter a number: \"))\n",
        "for i in range(1,11):\n",
        "  print(\"* \"*i)\n",
        "  i+1\n",
        "  i=1"
      ],
      "metadata": {
        "colab": {
          "base_uri": "https://localhost:8080/"
        },
        "id": "h0Kfu0HHXU5M",
        "outputId": "ac8c1c6c-9e7c-40ab-ad4a-b484de60c255"
      },
      "execution_count": 8,
      "outputs": [
        {
          "output_type": "stream",
          "name": "stdout",
          "text": [
            "Enter a number: 1\n",
            "* \n",
            "* * \n",
            "* * * \n",
            "* * * * \n",
            "* * * * * \n",
            "* * * * * * \n",
            "* * * * * * * \n",
            "* * * * * * * * \n",
            "* * * * * * * * * \n",
            "* * * * * * * * * * \n"
          ]
        }
      ]
    },
    {
      "cell_type": "code",
      "source": [
        "n = int(input(\"Enter the number: \"))\n",
        "for i in range (1,20):\n",
        "  print(\"* \"*i)\n",
        "  i+=1"
      ],
      "metadata": {
        "colab": {
          "base_uri": "https://localhost:8080/"
        },
        "id": "ES5kw4MTpRr2",
        "outputId": "c65ebb03-9059-4f48-8fda-03fbfe075a13"
      },
      "execution_count": 9,
      "outputs": [
        {
          "output_type": "stream",
          "name": "stdout",
          "text": [
            "Enter the number: 1\n",
            "* \n",
            "* * \n",
            "* * * \n",
            "* * * * \n",
            "* * * * * \n",
            "* * * * * * \n",
            "* * * * * * * \n",
            "* * * * * * * * \n",
            "* * * * * * * * * \n",
            "* * * * * * * * * * \n",
            "* * * * * * * * * * * \n",
            "* * * * * * * * * * * * \n",
            "* * * * * * * * * * * * * \n",
            "* * * * * * * * * * * * * * \n",
            "* * * * * * * * * * * * * * * \n",
            "* * * * * * * * * * * * * * * * \n",
            "* * * * * * * * * * * * * * * * * \n",
            "* * * * * * * * * * * * * * * * * * \n",
            "* * * * * * * * * * * * * * * * * * * \n"
          ]
        }
      ]
    },
    {
      "cell_type": "code",
      "source": [
        "s = int(input(\"Enter a number: \"))\n",
        "for i in range(1, s+1):\n",
        "  print(\"* \"*i)\n",
        "  i+=1"
      ],
      "metadata": {
        "colab": {
          "base_uri": "https://localhost:8080/"
        },
        "id": "JeIyieJ8qyKi",
        "outputId": "0212b8e2-eb4d-491e-ba28-d68561f08765"
      },
      "execution_count": 12,
      "outputs": [
        {
          "output_type": "stream",
          "name": "stdout",
          "text": [
            "Enter a number: 10\n",
            "* \n",
            "* * \n",
            "* * * \n",
            "* * * * \n",
            "* * * * * \n",
            "* * * * * * \n",
            "* * * * * * * \n",
            "* * * * * * * * \n",
            "* * * * * * * * * \n",
            "* * * * * * * * * * \n"
          ]
        }
      ]
    },
    {
      "cell_type": "code",
      "source": [
        "s = int(input(\"Enter a number, please: \"))\n",
        "for i in range(1, s+1):\n",
        "  for j in range(1,i+1):\n",
        "    print(j, end=\" \")\n",
        "  print()\n",
        "  i+=1"
      ],
      "metadata": {
        "colab": {
          "base_uri": "https://localhost:8080/"
        },
        "id": "BvS-peEm0u1Y",
        "outputId": "2963eda2-1421-4a0a-8b96-dc6fc995cc45"
      },
      "execution_count": 15,
      "outputs": [
        {
          "output_type": "stream",
          "name": "stdout",
          "text": [
            "Enter a number, please: 10\n",
            "1 \n",
            "1 2 \n",
            "1 2 3 \n",
            "1 2 3 4 \n",
            "1 2 3 4 5 \n",
            "1 2 3 4 5 6 \n",
            "1 2 3 4 5 6 7 \n",
            "1 2 3 4 5 6 7 8 \n",
            "1 2 3 4 5 6 7 8 9 \n",
            "1 2 3 4 5 6 7 8 9 10 \n"
          ]
        }
      ]
    },
    {
      "cell_type": "code",
      "source": [],
      "metadata": {
        "id": "vtd153cy2N8F"
      },
      "execution_count": null,
      "outputs": []
    }
  ]
}