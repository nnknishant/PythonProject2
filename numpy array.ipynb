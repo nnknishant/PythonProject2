{
  "metadata": {
    "kernelspec": {
      "name": "python",
      "display_name": "Python (Pyodide)",
      "language": "python"
    },
    "language_info": {
      "codemirror_mode": {
        "name": "python",
        "version": 3
      },
      "file_extension": ".py",
      "mimetype": "text/x-python",
      "name": "python",
      "nbconvert_exporter": "python",
      "pygments_lexer": "ipython3",
      "version": "3.8"
    }
  },
  "nbformat_minor": 5,
  "nbformat": 4,
  "cells": [
    {
      "id": "a23e1c33-4f8e-4bc0-947c-84b764a17ae6",
      "cell_type": "code",
      "source": "import time",
      "metadata": {
        "trusted": true
      },
      "outputs": [],
      "execution_count": 1
    },
    {
      "id": "ef85098a-4986-469c-af58-b3220c43a5de",
      "cell_type": "code",
      "source": "time.time()",
      "metadata": {
        "trusted": true
      },
      "outputs": [
        {
          "execution_count": 10,
          "output_type": "execute_result",
          "data": {
            "text/plain": "1740463629.349"
          },
          "metadata": {}
        }
      ],
      "execution_count": 10
    },
    {
      "id": "dad24dcf-161e-4c48-b16e-4ebac0dc99bf",
      "cell_type": "code",
      "source": "from time import gmtime, strftime",
      "metadata": {
        "trusted": true
      },
      "outputs": [],
      "execution_count": 13
    },
    {
      "id": "7e93f72b-5eb5-4826-b7fe-71d2ce8ebddc",
      "cell_type": "code",
      "source": "strftime(\"%a, %d, %b, %Y, %H:%M:%S +0000\", gmtime())\n",
      "metadata": {
        "trusted": true
      },
      "outputs": [
        {
          "execution_count": 14,
          "output_type": "execute_result",
          "data": {
            "text/plain": "'Tue, 25, Feb, 2025, 06:09:49 +0000'"
          },
          "metadata": {}
        }
      ],
      "execution_count": 14
    },
    {
      "id": "48ed8073-af7a-4727-8f6c-0bad18372338",
      "cell_type": "code",
      "source": "strftime(\"%m, %w, %j\", gmtime())",
      "metadata": {
        "trusted": true
      },
      "outputs": [
        {
          "execution_count": 15,
          "output_type": "execute_result",
          "data": {
            "text/plain": "'02, 2, 056'"
          },
          "metadata": {}
        }
      ],
      "execution_count": 15
    },
    {
      "id": "2993178d-c39d-403d-882b-eca4c38f2e84",
      "cell_type": "code",
      "source": "time.CLOCK_TAI",
      "metadata": {
        "trusted": true
      },
      "outputs": [
        {
          "execution_count": 16,
          "output_type": "execute_result",
          "data": {
            "text/plain": "11"
          },
          "metadata": {}
        }
      ],
      "execution_count": 16
    },
    {
      "id": "ca0b7941-57c7-46d4-b769-8e853682bd24",
      "cell_type": "code",
      "source": "time.CLOCK_THREAD_CPUTIME_ID",
      "metadata": {
        "trusted": true
      },
      "outputs": [
        {
          "execution_count": 18,
          "output_type": "execute_result",
          "data": {
            "text/plain": "3"
          },
          "metadata": {}
        }
      ],
      "execution_count": 18
    },
    {
      "id": "47a9edf4-9bcc-43ba-b78f-bbf06c7b89c2",
      "cell_type": "code",
      "source": "import numpy as np",
      "metadata": {
        "trusted": true
      },
      "outputs": [],
      "execution_count": 20
    },
    {
      "id": "b05c092c-4f86-4fa8-beda-cdf3dd3aea2e",
      "cell_type": "code",
      "source": "a = np.array([1,2,3,4,5,6])\na",
      "metadata": {
        "trusted": true
      },
      "outputs": [
        {
          "execution_count": 24,
          "output_type": "execute_result",
          "data": {
            "text/plain": "array([1, 2, 3, 4, 5, 6])"
          },
          "metadata": {}
        }
      ],
      "execution_count": 24
    },
    {
      "id": "2f5168fd-29c4-44d8-8240-5fe178416702",
      "cell_type": "code",
      "source": "a = np.array([[1,2,3], [2,3,4]])",
      "metadata": {
        "trusted": true
      },
      "outputs": [],
      "execution_count": 26
    },
    {
      "id": "4e912048-4289-462b-9760-4e34f9aa1b1f",
      "cell_type": "code",
      "source": "a",
      "metadata": {
        "trusted": true
      },
      "outputs": [
        {
          "execution_count": 27,
          "output_type": "execute_result",
          "data": {
            "text/plain": "array([[1, 2, 3],\n       [2, 3, 4]])"
          },
          "metadata": {}
        }
      ],
      "execution_count": 27
    },
    {
      "id": "30fefd51-d22f-4801-a070-516519caeea7",
      "cell_type": "code",
      "source": "a.shape",
      "metadata": {
        "trusted": true
      },
      "outputs": [
        {
          "execution_count": 32,
          "output_type": "execute_result",
          "data": {
            "text/plain": "(2, 3)"
          },
          "metadata": {}
        }
      ],
      "execution_count": 32
    },
    {
      "id": "5c323c41-185a-47b9-a719-b62c38d282d2",
      "cell_type": "code",
      "source": "a[0] = 10\na",
      "metadata": {
        "trusted": true
      },
      "outputs": [
        {
          "execution_count": 39,
          "output_type": "execute_result",
          "data": {
            "text/plain": "array([[10, 10, 10],\n       [ 2,  3,  4]])"
          },
          "metadata": {}
        }
      ],
      "execution_count": 39
    },
    {
      "id": "7e29750b-24f2-4f70-aa83-a4c5980e8f6c",
      "cell_type": "code",
      "source": "a1 = np.array([[2,3,4,5],[4,5,8,7]])\na1",
      "metadata": {
        "trusted": true
      },
      "outputs": [
        {
          "execution_count": 43,
          "output_type": "execute_result",
          "data": {
            "text/plain": "array([[2, 3, 4, 5],\n       [4, 5, 8, 7]])"
          },
          "metadata": {}
        }
      ],
      "execution_count": 43
    },
    {
      "id": "8cca30a4-b1eb-4998-a5a6-540d9c6b4580",
      "cell_type": "code",
      "source": "a1.shape",
      "metadata": {
        "trusted": true
      },
      "outputs": [
        {
          "execution_count": 44,
          "output_type": "execute_result",
          "data": {
            "text/plain": "(2, 4)"
          },
          "metadata": {}
        }
      ],
      "execution_count": 44
    },
    {
      "id": "5f2669a0-853e-437e-b038-bfa21bb15045",
      "cell_type": "code",
      "source": "a1[0] = 10\na1",
      "metadata": {
        "trusted": true
      },
      "outputs": [
        {
          "execution_count": 45,
          "output_type": "execute_result",
          "data": {
            "text/plain": "array([[10, 10, 10, 10],\n       [ 4,  5,  8,  7]])"
          },
          "metadata": {}
        }
      ],
      "execution_count": 45
    },
    {
      "id": "49d9a227-e12c-4cdd-b4c6-453de9a49c68",
      "cell_type": "code",
      "source": "a1[1] = 20\na1",
      "metadata": {
        "trusted": true
      },
      "outputs": [
        {
          "execution_count": 46,
          "output_type": "execute_result",
          "data": {
            "text/plain": "array([[10, 10, 10, 10],\n       [20, 20, 20, 20]])"
          },
          "metadata": {}
        }
      ],
      "execution_count": 46
    },
    {
      "id": "6d0c83c6-c9f9-4b34-9ae0-4813a32e3a22",
      "cell_type": "code",
      "source": "a[:2]",
      "metadata": {
        "trusted": true
      },
      "outputs": [
        {
          "execution_count": 47,
          "output_type": "execute_result",
          "data": {
            "text/plain": "array([[10, 10, 10],\n       [ 2,  3,  4]])"
          },
          "metadata": {}
        }
      ],
      "execution_count": 47
    },
    {
      "id": "6e1c3bc9-6a35-42f1-9c29-3a4355c5ab6d",
      "cell_type": "code",
      "source": "a1[:2]",
      "metadata": {
        "trusted": true
      },
      "outputs": [
        {
          "execution_count": 48,
          "output_type": "execute_result",
          "data": {
            "text/plain": "array([[10, 10, 10, 10],\n       [20, 20, 20, 20]])"
          },
          "metadata": {}
        }
      ],
      "execution_count": 48
    },
    {
      "id": "310ad6a4-3170-4ec7-8de1-829ea94b160b",
      "cell_type": "code",
      "source": "a1[:1]",
      "metadata": {
        "trusted": true
      },
      "outputs": [
        {
          "execution_count": 49,
          "output_type": "execute_result",
          "data": {
            "text/plain": "array([[10, 10, 10, 10]])"
          },
          "metadata": {}
        }
      ],
      "execution_count": 49
    },
    {
      "id": "f6691019-4e3a-4631-821f-80e8ee0989e1",
      "cell_type": "code",
      "source": "a1 = a[2:]",
      "metadata": {
        "trusted": true
      },
      "outputs": [],
      "execution_count": 50
    },
    {
      "id": "c399bfe4-ddf4-44f0-88e0-8e1f3019a02a",
      "cell_type": "code",
      "source": "a1\n",
      "metadata": {
        "trusted": true
      },
      "outputs": [
        {
          "execution_count": 54,
          "output_type": "execute_result",
          "data": {
            "text/plain": "array([], shape=(0, 3), dtype=int32)"
          },
          "metadata": {}
        }
      ],
      "execution_count": 54
    },
    {
      "id": "23f7a033-394b-4df9-8af1-af38ba944405",
      "cell_type": "code",
      "source": "a.ndim",
      "metadata": {
        "trusted": true
      },
      "outputs": [
        {
          "execution_count": 57,
          "output_type": "execute_result",
          "data": {
            "text/plain": "2"
          },
          "metadata": {}
        }
      ],
      "execution_count": 57
    },
    {
      "id": "9f8ddbf8-7d82-4d0e-8486-463cf8dea943",
      "cell_type": "code",
      "source": "a1.ndim",
      "metadata": {
        "trusted": true
      },
      "outputs": [
        {
          "execution_count": 58,
          "output_type": "execute_result",
          "data": {
            "text/plain": "2"
          },
          "metadata": {}
        }
      ],
      "execution_count": 58
    },
    {
      "id": "155039f2-f619-4dee-b9ab-5a8b34d41e97",
      "cell_type": "code",
      "source": "import math\na.size == math.prod(a.shape)",
      "metadata": {
        "trusted": true
      },
      "outputs": [
        {
          "execution_count": 59,
          "output_type": "execute_result",
          "data": {
            "text/plain": "True"
          },
          "metadata": {}
        }
      ],
      "execution_count": 59
    },
    {
      "id": "b5491a3c-b8de-4d46-8b06-024221f753fc",
      "cell_type": "code",
      "source": "np.zeros(2)",
      "metadata": {
        "trusted": true
      },
      "outputs": [
        {
          "execution_count": 61,
          "output_type": "execute_result",
          "data": {
            "text/plain": "array([0., 0.])"
          },
          "metadata": {}
        }
      ],
      "execution_count": 61
    },
    {
      "id": "19b7aa4d-9495-47fe-80df-9aee3f373bdd",
      "cell_type": "code",
      "source": "np.zeros(3)",
      "metadata": {
        "trusted": true
      },
      "outputs": [
        {
          "execution_count": 62,
          "output_type": "execute_result",
          "data": {
            "text/plain": "array([0., 0., 0.])"
          },
          "metadata": {}
        }
      ],
      "execution_count": 62
    },
    {
      "id": "20ac2d70-2f78-4171-a5f6-1821589aa788",
      "cell_type": "code",
      "source": "np.empty(2)",
      "metadata": {
        "trusted": true
      },
      "outputs": [
        {
          "execution_count": 63,
          "output_type": "execute_result",
          "data": {
            "text/plain": "array([0., 0.])"
          },
          "metadata": {}
        }
      ],
      "execution_count": 63
    },
    {
      "id": "fb70ee44-1689-4021-9747-60a92fe59f4a",
      "cell_type": "code",
      "source": "np.empty(3)",
      "metadata": {
        "trusted": true
      },
      "outputs": [
        {
          "execution_count": 64,
          "output_type": "execute_result",
          "data": {
            "text/plain": "array([0., 0., 0.])"
          },
          "metadata": {}
        }
      ],
      "execution_count": 64
    },
    {
      "id": "bc1e8c0d-6069-40cb-9670-4849913cfa6a",
      "cell_type": "code",
      "source": "np.arange(2)",
      "metadata": {
        "trusted": true
      },
      "outputs": [
        {
          "execution_count": 66,
          "output_type": "execute_result",
          "data": {
            "text/plain": "array([0, 1])"
          },
          "metadata": {}
        }
      ],
      "execution_count": 66
    },
    {
      "id": "2554cb4f-3484-4910-b02d-4999d82867de",
      "cell_type": "code",
      "source": "np.arange(3)",
      "metadata": {
        "trusted": true
      },
      "outputs": [
        {
          "execution_count": 67,
          "output_type": "execute_result",
          "data": {
            "text/plain": "array([0, 1, 2])"
          },
          "metadata": {}
        }
      ],
      "execution_count": 67
    },
    {
      "id": "66d80900-732d-4a77-8b47-79e5cecb970f",
      "cell_type": "code",
      "source": "np.linspace(0, 10, num = 4)",
      "metadata": {
        "trusted": true
      },
      "outputs": [
        {
          "execution_count": 68,
          "output_type": "execute_result",
          "data": {
            "text/plain": "array([ 0.        ,  3.33333333,  6.66666667, 10.        ])"
          },
          "metadata": {}
        }
      ],
      "execution_count": 68
    },
    {
      "id": "a07e366b-e5a8-465d-a0b6-0a6d391d8e83",
      "cell_type": "code",
      "source": "np.linspace(3, 90, num = 4)",
      "metadata": {
        "trusted": true
      },
      "outputs": [
        {
          "execution_count": 69,
          "output_type": "execute_result",
          "data": {
            "text/plain": "array([ 3., 32., 61., 90.])"
          },
          "metadata": {}
        }
      ],
      "execution_count": 69
    },
    {
      "id": "6987cf2c-9eb6-4f6b-bc68-9f0e3625cbd5",
      "cell_type": "code",
      "source": "#Adding removing and sorting elements\n\narr = np.array([2, 1, 5, 3, 7, 4, 6, 8])\narr",
      "metadata": {
        "trusted": true
      },
      "outputs": [
        {
          "execution_count": 70,
          "output_type": "execute_result",
          "data": {
            "text/plain": "array([2, 1, 5, 3, 7, 4, 6, 8])"
          },
          "metadata": {}
        }
      ],
      "execution_count": 70
    },
    {
      "id": "64c4b094-730f-42a7-8cb7-dab0b85e5a83",
      "cell_type": "code",
      "source": "np.sort(arr)",
      "metadata": {
        "trusted": true
      },
      "outputs": [
        {
          "execution_count": 71,
          "output_type": "execute_result",
          "data": {
            "text/plain": "array([1, 2, 3, 4, 5, 6, 7, 8])"
          },
          "metadata": {}
        }
      ],
      "execution_count": 71
    },
    {
      "id": "4043ed48-b528-4219-851d-ca75d4e35296",
      "cell_type": "code",
      "source": "a = np.array([1,5,7,6])\nb = np.array([8,7,2,1])\n\n\n",
      "metadata": {
        "trusted": true
      },
      "outputs": [],
      "execution_count": 72
    },
    {
      "id": "56fc18fb-63f8-4294-b672-d06b60671da9",
      "cell_type": "code",
      "source": "a",
      "metadata": {
        "trusted": true
      },
      "outputs": [
        {
          "execution_count": 73,
          "output_type": "execute_result",
          "data": {
            "text/plain": "array([1, 5, 7, 6])"
          },
          "metadata": {}
        }
      ],
      "execution_count": 73
    },
    {
      "id": "55f23f51-7acd-42f7-8d26-d2112ec8a6bd",
      "cell_type": "code",
      "source": "b\n",
      "metadata": {
        "trusted": true
      },
      "outputs": [
        {
          "execution_count": 74,
          "output_type": "execute_result",
          "data": {
            "text/plain": "array([8, 7, 2, 1])"
          },
          "metadata": {}
        }
      ],
      "execution_count": 74
    },
    {
      "id": "40d20e75-76b8-411f-bc57-e3b2319322e9",
      "cell_type": "code",
      "source": "a.ndim",
      "metadata": {
        "trusted": true
      },
      "outputs": [
        {
          "execution_count": 76,
          "output_type": "execute_result",
          "data": {
            "text/plain": "1"
          },
          "metadata": {}
        }
      ],
      "execution_count": 76
    },
    {
      "id": "15a40128-25ba-4138-9cb1-981fbe4c0ba3",
      "cell_type": "code",
      "source": "b.ndim",
      "metadata": {
        "trusted": true
      },
      "outputs": [
        {
          "execution_count": 77,
          "output_type": "execute_result",
          "data": {
            "text/plain": "1"
          },
          "metadata": {}
        }
      ],
      "execution_count": 77
    },
    {
      "id": "24f5a681-8313-40e0-a722-4c10a614b8e0",
      "cell_type": "code",
      "source": "np.concatenate((a,b))",
      "metadata": {
        "trusted": true
      },
      "outputs": [
        {
          "execution_count": 79,
          "output_type": "execute_result",
          "data": {
            "text/plain": "array([1, 5, 7, 6, 8, 7, 2, 1])"
          },
          "metadata": {}
        }
      ],
      "execution_count": 79
    },
    {
      "id": "8bfab6ad-9f73-4a9e-9743-dd70d5a2e136",
      "cell_type": "code",
      "source": "x = np.array([[1,2],[4,5]])\ny = np.array([[4,8]])\n",
      "metadata": {
        "trusted": true
      },
      "outputs": [],
      "execution_count": 81
    },
    {
      "id": "0ce34f02-7232-41ed-bf7d-8d4c7586ef88",
      "cell_type": "code",
      "source": "np.concatenate((x,y), axis = 0)",
      "metadata": {
        "trusted": true
      },
      "outputs": [
        {
          "execution_count": 82,
          "output_type": "execute_result",
          "data": {
            "text/plain": "array([[1, 2],\n       [4, 5],\n       [4, 8]])"
          },
          "metadata": {}
        }
      ],
      "execution_count": 82
    },
    {
      "id": "48fb9545-bfdd-4b53-906f-447017e62233",
      "cell_type": "code",
      "source": "x",
      "metadata": {
        "trusted": true
      },
      "outputs": [
        {
          "execution_count": 83,
          "output_type": "execute_result",
          "data": {
            "text/plain": "array([[1, 2],\n       [4, 5]])"
          },
          "metadata": {}
        }
      ],
      "execution_count": 83
    },
    {
      "id": "da07ee11-6914-4e09-8dd9-5b5d3a9245d8",
      "cell_type": "code",
      "source": "y",
      "metadata": {
        "trusted": true
      },
      "outputs": [
        {
          "execution_count": 84,
          "output_type": "execute_result",
          "data": {
            "text/plain": "array([[4, 8]])"
          },
          "metadata": {}
        }
      ],
      "execution_count": 84
    },
    {
      "id": "525dad1d-7e61-48af-be10-85d9f391a38f",
      "cell_type": "code",
      "source": "a = np.arange(5)\na",
      "metadata": {
        "trusted": true
      },
      "outputs": [
        {
          "execution_count": 85,
          "output_type": "execute_result",
          "data": {
            "text/plain": "array([0, 1, 2, 3, 4])"
          },
          "metadata": {}
        }
      ],
      "execution_count": 85
    },
    {
      "id": "e7b876dd-c57d-45da-9e53-cdb26a0e4a6f",
      "cell_type": "code",
      "source": "a = np.arange(10)",
      "metadata": {
        "trusted": true
      },
      "outputs": [],
      "execution_count": 87
    },
    {
      "id": "b850f39f-c8bf-4b38-a47f-cce0c9dce083",
      "cell_type": "code",
      "source": "a",
      "metadata": {
        "trusted": true
      },
      "outputs": [
        {
          "execution_count": 88,
          "output_type": "execute_result",
          "data": {
            "text/plain": "array([0, 1, 2, 3, 4, 5, 6, 7, 8, 9])"
          },
          "metadata": {}
        }
      ],
      "execution_count": 88
    },
    {
      "id": "253382ca-3c45-4651-9daf-2348f54ec22d",
      "cell_type": "code",
      "source": "b = np.array([1,2,3,4,5,6])\nb.shape",
      "metadata": {
        "trusted": true
      },
      "outputs": [
        {
          "execution_count": 94,
          "output_type": "execute_result",
          "data": {
            "text/plain": "(6,)"
          },
          "metadata": {}
        }
      ],
      "execution_count": 94
    },
    {
      "id": "35530d3c-a157-41c6-8c41-70048f9a84fd",
      "cell_type": "code",
      "source": "",
      "metadata": {
        "trusted": true
      },
      "outputs": [],
      "execution_count": null
    }
  ]
}