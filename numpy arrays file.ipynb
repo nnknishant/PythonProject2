{
  "metadata": {
    "kernelspec": {
      "name": "python",
      "display_name": "Python (Pyodide)",
      "language": "python"
    },
    "language_info": {
      "codemirror_mode": {
        "name": "python",
        "version": 3
      },
      "file_extension": ".py",
      "mimetype": "text/x-python",
      "name": "python",
      "nbconvert_exporter": "python",
      "pygments_lexer": "ipython3",
      "version": "3.8"
    }
  },
  "nbformat_minor": 5,
  "nbformat": 4,
  "cells": [
    {
      "id": "7992c727-9d74-4c61-b516-84e5db2afd7b",
      "cell_type": "code",
      "source": "# How to create an array from existing data\nimport numpy as np\n\na = np.array([1,  2,  3,  4,  5,  6,  7,  8,  9, 10])\na",
      "metadata": {
        "trusted": true
      },
      "outputs": [
        {
          "execution_count": 2,
          "output_type": "execute_result",
          "data": {
            "text/plain": "array([ 1,  2,  3,  4,  5,  6,  7,  8,  9, 10])"
          },
          "metadata": {}
        }
      ],
      "execution_count": 2
    },
    {
      "id": "91f9d105-a6ff-4628-a52c-350398e9b725",
      "cell_type": "code",
      "source": "arr1 = a[3:5]",
      "metadata": {
        "trusted": true
      },
      "outputs": [],
      "execution_count": 3
    },
    {
      "id": "31797a2b-106e-4f54-999b-e5b97636fcef",
      "cell_type": "code",
      "source": "arr1",
      "metadata": {
        "trusted": true
      },
      "outputs": [
        {
          "execution_count": 4,
          "output_type": "execute_result",
          "data": {
            "text/plain": "array([4, 5])"
          },
          "metadata": {}
        }
      ],
      "execution_count": 4
    },
    {
      "id": "e24fa08d-394b-4a3c-a5d6-bfb5bf747b38",
      "cell_type": "code",
      "source": "arr1 = a[4:8]\narr1",
      "metadata": {
        "trusted": true
      },
      "outputs": [
        {
          "execution_count": 5,
          "output_type": "execute_result",
          "data": {
            "text/plain": "array([5, 6, 7, 8])"
          },
          "metadata": {}
        }
      ],
      "execution_count": 5
    },
    {
      "id": "17510b26-84e5-4756-a673-b4b483a7b404",
      "cell_type": "code",
      "source": "a1 = np.array([[1,1],[2,2]])\na2 =  np.array([[3,3],[4,4]])\na1",
      "metadata": {
        "trusted": true
      },
      "outputs": [
        {
          "execution_count": 15,
          "output_type": "execute_result",
          "data": {
            "text/plain": "array([[1, 1],\n       [2, 2]])"
          },
          "metadata": {}
        }
      ],
      "execution_count": 15
    },
    {
      "id": "8d38070f-a79a-4e88-9334-63a62d8fdeaf",
      "cell_type": "code",
      "source": "a2",
      "metadata": {
        "trusted": true
      },
      "outputs": [
        {
          "execution_count": 14,
          "output_type": "execute_result",
          "data": {
            "text/plain": "array([[3, 3],\n       [4, 4]])"
          },
          "metadata": {}
        }
      ],
      "execution_count": 14
    },
    {
      "id": "2a93150c-ba10-4f82-aa50-ee31ec5ea75e",
      "cell_type": "code",
      "source": "np.vstack((a1,a2))",
      "metadata": {
        "trusted": true
      },
      "outputs": [
        {
          "execution_count": 17,
          "output_type": "execute_result",
          "data": {
            "text/plain": "array([[1, 1],\n       [2, 2],\n       [3, 3],\n       [4, 4]])"
          },
          "metadata": {}
        }
      ],
      "execution_count": 17
    },
    {
      "id": "8c81043b-ece4-493c-a3b2-c29b88e532de",
      "cell_type": "code",
      "source": "np.hstack((a1,a2))",
      "metadata": {
        "trusted": true
      },
      "outputs": [
        {
          "execution_count": 18,
          "output_type": "execute_result",
          "data": {
            "text/plain": "array([[1, 1, 3, 3],\n       [2, 2, 4, 4]])"
          },
          "metadata": {}
        }
      ],
      "execution_count": 18
    },
    {
      "id": "68d574b6-db2d-49b3-9ef0-fb1a58937043",
      "cell_type": "code",
      "source": "x = np.arange(1,25).reshape(2,12)\nx",
      "metadata": {
        "trusted": true
      },
      "outputs": [
        {
          "execution_count": 20,
          "output_type": "execute_result",
          "data": {
            "text/plain": "array([[ 1,  2,  3,  4,  5,  6,  7,  8,  9, 10, 11, 12],\n       [13, 14, 15, 16, 17, 18, 19, 20, 21, 22, 23, 24]])"
          },
          "metadata": {}
        }
      ],
      "execution_count": 20
    },
    {
      "id": "0f57d4c1-77f6-4c6e-aa1d-441264f0a34e",
      "cell_type": "code",
      "source": "np.hsplit(x,(3,4))",
      "metadata": {
        "trusted": true
      },
      "outputs": [
        {
          "execution_count": 21,
          "output_type": "execute_result",
          "data": {
            "text/plain": "[array([[ 1,  2,  3],\n        [13, 14, 15]]),\n array([[ 4],\n        [16]]),\n array([[ 5,  6,  7,  8,  9, 10, 11, 12],\n        [17, 18, 19, 20, 21, 22, 23, 24]])]"
          },
          "metadata": {}
        }
      ],
      "execution_count": 21
    },
    {
      "id": "bad08c00-cb60-4a37-bf33-446ddd1a997d",
      "cell_type": "code",
      "source": "a = np.array([[1,2,3,4],[5,6,7,8],[9,10,11,12]])\na",
      "metadata": {
        "trusted": true
      },
      "outputs": [
        {
          "execution_count": 22,
          "output_type": "execute_result",
          "data": {
            "text/plain": "array([[ 1,  2,  3,  4],\n       [ 5,  6,  7,  8],\n       [ 9, 10, 11, 12]])"
          },
          "metadata": {}
        }
      ],
      "execution_count": 22
    }
  ]
}