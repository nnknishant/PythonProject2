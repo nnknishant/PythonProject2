{
  "nbformat": 4,
  "nbformat_minor": 0,
  "metadata": {
    "colab": {
      "provenance": [],
      "authorship_tag": "ABX9TyPN9eqysdS73c0D9sB4BtbI",
      "include_colab_link": true
    },
    "kernelspec": {
      "name": "python3",
      "display_name": "Python 3"
    },
    "language_info": {
      "name": "python"
    }
  },
  "cells": [
    {
      "cell_type": "markdown",
      "metadata": {
        "id": "view-in-github",
        "colab_type": "text"
      },
      "source": [
        "<a href=\"https://colab.research.google.com/github/nnknishant/PythonProject2/blob/master/Pyspark_Functions.ipynb\" target=\"_parent\"><img src=\"https://colab.research.google.com/assets/colab-badge.svg\" alt=\"Open In Colab\"/></a>"
      ]
    },
    {
      "cell_type": "code",
      "execution_count": 1,
      "metadata": {
        "id": "TnVGPLPbEadt"
      },
      "outputs": [],
      "source": [
        "# Create Spark Session\n",
        "from pyspark.sql import SparkSession\n",
        "spark = SparkSession.builder.appName('Example').getOrCreate()"
      ]
    },
    {
      "cell_type": "code",
      "source": [
        "# Create a spark session with spark connect\n",
        "\n",
        "spark =(\n",
        "SparkSession.builder \\\n",
        "    .master(\"local\") \\\n",
        "    .appName(\"Spark Connect Example\") \\\n",
        "    .config(\"spark.some.config.option\", \"some_values\") \\\n",
        "    .getOrCreate()\n",
        ")"
      ],
      "metadata": {
        "id": "SroAzDiSEwgX"
      },
      "execution_count": 2,
      "outputs": []
    },
    {
      "cell_type": "code",
      "source": [
        "spark"
      ],
      "metadata": {
        "colab": {
          "base_uri": "https://localhost:8080/",
          "height": 219
        },
        "id": "klpgxxfOFixR",
        "outputId": "083f97e5-f67a-4865-e3a9-8ad90f9be676"
      },
      "execution_count": 3,
      "outputs": [
        {
          "output_type": "execute_result",
          "data": {
            "text/plain": [
              "<pyspark.sql.session.SparkSession at 0x78469c142bd0>"
            ],
            "text/html": [
              "\n",
              "            <div>\n",
              "                <p><b>SparkSession - in-memory</b></p>\n",
              "                \n",
              "        <div>\n",
              "            <p><b>SparkContext</b></p>\n",
              "\n",
              "            <p><a href=\"http://80debee76ed7:4040\">Spark UI</a></p>\n",
              "\n",
              "            <dl>\n",
              "              <dt>Version</dt>\n",
              "                <dd><code>v3.5.5</code></dd>\n",
              "              <dt>Master</dt>\n",
              "                <dd><code>local[*]</code></dd>\n",
              "              <dt>AppName</dt>\n",
              "                <dd><code>Example</code></dd>\n",
              "            </dl>\n",
              "        </div>\n",
              "        \n",
              "            </div>\n",
              "        "
            ]
          },
          "metadata": {},
          "execution_count": 3
        }
      ]
    },
    {
      "cell_type": "code",
      "source": [
        "# pyspark.sql.GroupedData.avg\n",
        "\n",
        "df = spark.createDataFrame([\n",
        "    (2, \"Alice\", 80), (3, \"Alice\", 100),\n",
        "    (5, \"Bob\", 120), (10, \"Bob\", 140)], [\"age\", \"name\", \"height\"])\n",
        "\n",
        "df.show()"
      ],
      "metadata": {
        "colab": {
          "base_uri": "https://localhost:8080/"
        },
        "id": "ZWWFmpcuFma9",
        "outputId": "21317b7c-b9d4-4736-e3d7-7715824e2144"
      },
      "execution_count": 4,
      "outputs": [
        {
          "output_type": "stream",
          "name": "stdout",
          "text": [
            "+---+-----+------+\n",
            "|age| name|height|\n",
            "+---+-----+------+\n",
            "|  2|Alice|    80|\n",
            "|  3|Alice|   100|\n",
            "|  5|  Bob|   120|\n",
            "| 10|  Bob|   140|\n",
            "+---+-----+------+\n",
            "\n"
          ]
        }
      ]
    },
    {
      "cell_type": "code",
      "source": [
        "# Group by name and calculate the meanof the age in each group\n",
        "\n",
        "df_groupby  = df.groupBy(\"name\").avg(\"age\").sort(\"name\").show()"
      ],
      "metadata": {
        "colab": {
          "base_uri": "https://localhost:8080/"
        },
        "id": "6j1Cct8VI6kC",
        "outputId": "e1aefc1d-9d11-4af1-9a7b-cda939531e90"
      },
      "execution_count": 5,
      "outputs": [
        {
          "output_type": "stream",
          "name": "stdout",
          "text": [
            "+-----+--------+\n",
            "| name|avg(age)|\n",
            "+-----+--------+\n",
            "|Alice|     2.5|\n",
            "|  Bob|     7.5|\n",
            "+-----+--------+\n",
            "\n"
          ]
        }
      ]
    },
    {
      "cell_type": "code",
      "source": [
        "df_mean = df.groupBy().avg(\"age\", \"height\").show()"
      ],
      "metadata": {
        "colab": {
          "base_uri": "https://localhost:8080/"
        },
        "id": "msC55ei3JVi_",
        "outputId": "9dc812a4-9460-4117-b9f7-0bb9db3addb1"
      },
      "execution_count": 8,
      "outputs": [
        {
          "output_type": "stream",
          "name": "stdout",
          "text": [
            "+--------+-----------+\n",
            "|avg(age)|avg(height)|\n",
            "+--------+-----------+\n",
            "|     5.0|      110.0|\n",
            "+--------+-----------+\n",
            "\n"
          ]
        }
      ]
    },
    {
      "cell_type": "code",
      "source": [
        "df_count = df.groupBy(\"name\").count().show()"
      ],
      "metadata": {
        "colab": {
          "base_uri": "https://localhost:8080/"
        },
        "id": "quxxbVEHJmn_",
        "outputId": "49b1ac33-6e12-4fa6-c1ce-5ce01de4db0c"
      },
      "execution_count": 9,
      "outputs": [
        {
          "output_type": "stream",
          "name": "stdout",
          "text": [
            "+-----+-----+\n",
            "| name|count|\n",
            "+-----+-----+\n",
            "|Alice|    2|\n",
            "|  Bob|    2|\n",
            "+-----+-----+\n",
            "\n"
          ]
        }
      ]
    },
    {
      "cell_type": "code",
      "source": [
        "df_max = df.groupBy(\"name\").max(\"age\").show()"
      ],
      "metadata": {
        "colab": {
          "base_uri": "https://localhost:8080/"
        },
        "id": "QXuWzaBvRkql",
        "outputId": "dddd76ec-5013-4521-8263-2a608852637a"
      },
      "execution_count": 12,
      "outputs": [
        {
          "output_type": "stream",
          "name": "stdout",
          "text": [
            "+-----+--------+\n",
            "| name|max(age)|\n",
            "+-----+--------+\n",
            "|Alice|       3|\n",
            "|  Bob|      10|\n",
            "+-----+--------+\n",
            "\n"
          ]
        }
      ]
    },
    {
      "cell_type": "code",
      "source": [
        "df_max = df.groupBy(\"name\").max(\"age\", \"height\").show()"
      ],
      "metadata": {
        "colab": {
          "base_uri": "https://localhost:8080/"
        },
        "id": "_RAT0wyyRxjk",
        "outputId": "80ea80f8-64f3-45d0-e4ae-0bde09dcc9cf"
      },
      "execution_count": 13,
      "outputs": [
        {
          "output_type": "stream",
          "name": "stdout",
          "text": [
            "+-----+--------+-----------+\n",
            "| name|max(age)|max(height)|\n",
            "+-----+--------+-----------+\n",
            "|Alice|       3|        100|\n",
            "|  Bob|      10|        140|\n",
            "+-----+--------+-----------+\n",
            "\n"
          ]
        }
      ]
    },
    {
      "cell_type": "code",
      "source": [
        "df_min = df.groupBy(\"name\").min(\"age\", \"height\").sort(\"name\").show()"
      ],
      "metadata": {
        "colab": {
          "base_uri": "https://localhost:8080/"
        },
        "id": "PppYT8o6R-yd",
        "outputId": "be90d48d-71fd-4ba4-98d1-90bd9c7c10dc"
      },
      "execution_count": 14,
      "outputs": [
        {
          "output_type": "stream",
          "name": "stdout",
          "text": [
            "+-----+--------+-----------+\n",
            "| name|min(age)|min(height)|\n",
            "+-----+--------+-----------+\n",
            "|Alice|       2|         80|\n",
            "|  Bob|       5|        120|\n",
            "+-----+--------+-----------+\n",
            "\n"
          ]
        }
      ]
    },
    {
      "cell_type": "code",
      "source": [
        "df_sum = df.groupBy(\"name\").sum(\"height\").sort(\"name\").show()"
      ],
      "metadata": {
        "colab": {
          "base_uri": "https://localhost:8080/"
        },
        "id": "OWT5ez19SL0D",
        "outputId": "f1989db9-01e2-41f7-95ba-06dbb1548c44"
      },
      "execution_count": 18,
      "outputs": [
        {
          "output_type": "stream",
          "name": "stdout",
          "text": [
            "+-----+-----------+\n",
            "| name|sum(height)|\n",
            "+-----+-----------+\n",
            "|Alice|        180|\n",
            "|  Bob|        260|\n",
            "+-----+-----------+\n",
            "\n"
          ]
        }
      ]
    },
    {
      "cell_type": "code",
      "source": [
        "df_sum = df.groupBy(\"name\").sum(\"age\").sort(\"name\").show()\n"
      ],
      "metadata": {
        "colab": {
          "base_uri": "https://localhost:8080/"
        },
        "id": "wyyvDjdDSlQW",
        "outputId": "d9c9bcb3-a9d0-487e-c3d1-aba0f6ed3c63"
      },
      "execution_count": 23,
      "outputs": [
        {
          "output_type": "stream",
          "name": "stdout",
          "text": [
            "+-----+--------+\n",
            "| name|sum(age)|\n",
            "+-----+--------+\n",
            "|Alice|       5|\n",
            "|  Bob|      15|\n",
            "+-----+--------+\n",
            "\n"
          ]
        }
      ]
    },
    {
      "cell_type": "code",
      "source": [],
      "metadata": {
        "id": "hINzTN7OS9AV"
      },
      "execution_count": null,
      "outputs": []
    }
  ]
}