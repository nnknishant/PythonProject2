{
  "metadata": {
    "kernelspec": {
      "name": "python",
      "display_name": "Python (Pyodide)",
      "language": "python"
    },
    "language_info": {
      "codemirror_mode": {
        "name": "python",
        "version": 3
      },
      "file_extension": ".py",
      "mimetype": "text/x-python",
      "name": "python",
      "nbconvert_exporter": "python",
      "pygments_lexer": "ipython3",
      "version": "3.8"
    }
  },
  "nbformat_minor": 5,
  "nbformat": 4,
  "cells": [
    {
      "id": "b5669a70-9a43-46a6-87d9-48607233a0a4",
      "cell_type": "code",
      "source": "import calendar",
      "metadata": {
        "trusted": true
      },
      "outputs": [],
      "execution_count": 9
    },
    {
      "id": "ab0f473f-33c8-4936-8493-87d8d92e8832",
      "cell_type": "code",
      "source": "calendar.setfirstweekday(calendar.SUNDAY)",
      "metadata": {
        "trusted": true
      },
      "outputs": [],
      "execution_count": 14
    },
    {
      "id": "0e398efd-cf6c-48a5-af27-1a0e97a998ef",
      "cell_type": "code",
      "source": "calendar.firstweekday()",
      "metadata": {
        "trusted": true
      },
      "outputs": [
        {
          "execution_count": 16,
          "output_type": "execute_result",
          "data": {
            "text/plain": "6"
          },
          "metadata": {}
        }
      ],
      "execution_count": 16
    },
    {
      "id": "5181cf7b-c568-4320-956d-a8523a3bd0e7",
      "cell_type": "code",
      "source": "calendar.firstweekday()",
      "metadata": {
        "trusted": true
      },
      "outputs": [
        {
          "execution_count": 21,
          "output_type": "execute_result",
          "data": {
            "text/plain": "6"
          },
          "metadata": {}
        }
      ],
      "execution_count": 21
    },
    {
      "id": "aa38b49a-f67b-415e-87a1-2211507deedf",
      "cell_type": "code",
      "source": "calendar.isleap(year = 2024)",
      "metadata": {
        "trusted": true
      },
      "outputs": [
        {
          "execution_count": 24,
          "output_type": "execute_result",
          "data": {
            "text/plain": "True"
          },
          "metadata": {}
        }
      ],
      "execution_count": 24
    },
    {
      "id": "ddde39ab-7ddc-4757-b2f7-856c86421091",
      "cell_type": "code",
      "source": "calendar.isleap(year = 2025)",
      "metadata": {
        "trusted": true
      },
      "outputs": [
        {
          "execution_count": 25,
          "output_type": "execute_result",
          "data": {
            "text/plain": "False"
          },
          "metadata": {}
        }
      ],
      "execution_count": 25
    },
    {
      "id": "5114c859-67ce-4b40-9382-145b315ca723",
      "cell_type": "code",
      "source": "calendar.leapdays(2024,2025)",
      "metadata": {
        "trusted": true
      },
      "outputs": [
        {
          "execution_count": 27,
          "output_type": "execute_result",
          "data": {
            "text/plain": "1"
          },
          "metadata": {}
        }
      ],
      "execution_count": 27
    },
    {
      "id": "7eca9835-38f6-447a-bc4f-de997eb11c18",
      "cell_type": "code",
      "source": "calendar.leapdays(2025,30)",
      "metadata": {
        "trusted": true
      },
      "outputs": [
        {
          "execution_count": 28,
          "output_type": "execute_result",
          "data": {
            "text/plain": "-484"
          },
          "metadata": {}
        }
      ],
      "execution_count": 28
    },
    {
      "id": "9a6cf382-5540-4a1c-aa1a-d76ee969250f",
      "cell_type": "code",
      "source": "cssclasses = [\"mon\", \"tue\", \"wed\", \"thu\", \"fri\", \"sat\", \"sun\"]",
      "metadata": {
        "trusted": true
      },
      "outputs": [],
      "execution_count": 33
    },
    {
      "id": "800ddc61-9e70-45c9-8d7d-e3c1116b9019",
      "cell_type": "code",
      "source": "cssclass_year = 2024",
      "metadata": {
        "trusted": true
      },
      "outputs": [],
      "execution_count": 39
    },
    {
      "id": "98526df5-9a5e-453b-80f5-19de3c67079f",
      "cell_type": "code",
      "source": "cssclass_year",
      "metadata": {
        "trusted": true
      },
      "outputs": [
        {
          "execution_count": 40,
          "output_type": "execute_result",
          "data": {
            "text/plain": "2024"
          },
          "metadata": {}
        }
      ],
      "execution_count": 40
    },
    {
      "id": "b1a03698-ec92-439b-93d4-810b0213ded5",
      "cell_type": "code",
      "source": "import calendar\nlist(calendar.day_name)",
      "metadata": {
        "trusted": true
      },
      "outputs": [
        {
          "execution_count": 41,
          "output_type": "execute_result",
          "data": {
            "text/plain": "['Monday', 'Tuesday', 'Wednesday', 'Thursday', 'Friday', 'Saturday', 'Sunday']"
          },
          "metadata": {}
        }
      ],
      "execution_count": 41
    },
    {
      "id": "b4475ddd-1e18-4a90-8559-add07ad784e0",
      "cell_type": "code",
      "source": "list(calendar.month_name)",
      "metadata": {
        "trusted": true
      },
      "outputs": [
        {
          "execution_count": 42,
          "output_type": "execute_result",
          "data": {
            "text/plain": "['',\n 'January',\n 'February',\n 'March',\n 'April',\n 'May',\n 'June',\n 'July',\n 'August',\n 'September',\n 'October',\n 'November',\n 'December']"
          },
          "metadata": {}
        }
      ],
      "execution_count": 42
    },
    {
      "id": "282ab35b-3a4d-4c5a-b440-d544e1d2f311",
      "cell_type": "code",
      "source": "a = list[calendar.month_name]",
      "metadata": {
        "trusted": true
      },
      "outputs": [],
      "execution_count": 44
    },
    {
      "id": "6f7836b2-9b1b-4da2-861e-1bea8f04a2ef",
      "cell_type": "code",
      "source": "print(a)",
      "metadata": {
        "trusted": true
      },
      "outputs": [
        {
          "name": "stdout",
          "output_type": "stream",
          "text": "list[<calendar._localized_month object at 0x135c048>]\n"
        }
      ],
      "execution_count": 46
    },
    {
      "id": "1c75b4a4-7c66-46c6-9ede-b429035ae494",
      "cell_type": "code",
      "source": "import calendar\nlist(calendar.day_abbr)",
      "metadata": {
        "trusted": true
      },
      "outputs": [
        {
          "execution_count": 48,
          "output_type": "execute_result",
          "data": {
            "text/plain": "['Mon', 'Tue', 'Wed', 'Thu', 'Fri', 'Sat', 'Sun']"
          },
          "metadata": {}
        }
      ],
      "execution_count": 48
    },
    {
      "id": "b242bc94-0096-4036-a6c2-db2386e6e54e",
      "cell_type": "code",
      "source": "calendar.Day(2)",
      "metadata": {
        "trusted": true
      },
      "outputs": [
        {
          "execution_count": 50,
          "output_type": "execute_result",
          "data": {
            "text/plain": "calendar.WEDNESDAY"
          },
          "metadata": {}
        }
      ],
      "execution_count": 50
    },
    {
      "id": "6a7d19a7-97e9-4611-863e-6207576c2599",
      "cell_type": "code",
      "source": "calendar.Day(0)",
      "metadata": {
        "trusted": true
      },
      "outputs": [
        {
          "execution_count": 51,
          "output_type": "execute_result",
          "data": {
            "text/plain": "calendar.MONDAY"
          },
          "metadata": {}
        }
      ],
      "execution_count": 51
    },
    {
      "id": "8986cc8b-9ff2-48c1-a685-b826029d4f7e",
      "cell_type": "code",
      "source": "calendar.Day(4)",
      "metadata": {
        "trusted": true
      },
      "outputs": [
        {
          "execution_count": 55,
          "output_type": "execute_result",
          "data": {
            "text/plain": "calendar.FRIDAY"
          },
          "metadata": {}
        }
      ],
      "execution_count": 55
    },
    {
      "id": "ab875d07-faea-4237-a346-68fc7e115ab6",
      "cell_type": "code",
      "source": "import calendar\nlist(calendar.month_name)",
      "metadata": {
        "trusted": true
      },
      "outputs": [
        {
          "execution_count": 56,
          "output_type": "execute_result",
          "data": {
            "text/plain": "['',\n 'January',\n 'February',\n 'March',\n 'April',\n 'May',\n 'June',\n 'July',\n 'August',\n 'September',\n 'October',\n 'November',\n 'December']"
          },
          "metadata": {}
        }
      ],
      "execution_count": 56
    },
    {
      "id": "90d15fbb-2255-47fa-8013-489e44737e41",
      "cell_type": "code",
      "source": "import calendar\nlist(calendar.month_abbr)",
      "metadata": {
        "trusted": true
      },
      "outputs": [
        {
          "execution_count": 57,
          "output_type": "execute_result",
          "data": {
            "text/plain": "['',\n 'Jan',\n 'Feb',\n 'Mar',\n 'Apr',\n 'May',\n 'Jun',\n 'Jul',\n 'Aug',\n 'Sep',\n 'Oct',\n 'Nov',\n 'Dec']"
          },
          "metadata": {}
        }
      ],
      "execution_count": 57
    }
  ]
}