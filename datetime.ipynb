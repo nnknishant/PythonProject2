{
  "nbformat": 4,
  "nbformat_minor": 0,
  "metadata": {
    "colab": {
      "provenance": [],
      "authorship_tag": "ABX9TyN+rB9qMJo/BaLHXdHGURLF",
      "include_colab_link": true
    },
    "kernelspec": {
      "name": "python3",
      "display_name": "Python 3"
    },
    "language_info": {
      "name": "python"
    }
  },
  "cells": [
    {
      "cell_type": "markdown",
      "metadata": {
        "id": "view-in-github",
        "colab_type": "text"
      },
      "source": [
        "<a href=\"https://colab.research.google.com/github/nnknishant/PythonProject2/blob/master/datetime.ipynb\" target=\"_parent\"><img src=\"https://colab.research.google.com/assets/colab-badge.svg\" alt=\"Open In Colab\"/></a>"
      ]
    },
    {
      "cell_type": "code",
      "execution_count": 1,
      "metadata": {
        "id": "lvmbw31jx1Af"
      },
      "outputs": [],
      "source": [
        "import datetime"
      ]
    },
    {
      "cell_type": "code",
      "source": [
        "datetime_obj = datetime.datetime(2023,3,10,12,23,32)"
      ],
      "metadata": {
        "id": "E1xkQMD7x50l"
      },
      "execution_count": 6,
      "outputs": []
    },
    {
      "cell_type": "code",
      "source": [
        "print(datetime_obj)\n",
        "type(datetime_obj)"
      ],
      "metadata": {
        "colab": {
          "base_uri": "https://localhost:8080/"
        },
        "id": "2stWrQk8yEsS",
        "outputId": "754b5067-766f-4017-a076-69872171957d"
      },
      "execution_count": 7,
      "outputs": [
        {
          "output_type": "stream",
          "name": "stdout",
          "text": [
            "2023-03-10 12:23:32\n"
          ]
        },
        {
          "output_type": "execute_result",
          "data": {
            "text/plain": [
              "datetime.datetime"
            ]
          },
          "metadata": {},
          "execution_count": 7
        }
      ]
    },
    {
      "cell_type": "code",
      "source": [
        "datetime.datetime.now()"
      ],
      "metadata": {
        "colab": {
          "base_uri": "https://localhost:8080/"
        },
        "id": "Irs0A7aOykqS",
        "outputId": "96def93c-6bf6-4197-82e7-c9275008aa79"
      },
      "execution_count": 9,
      "outputs": [
        {
          "output_type": "execute_result",
          "data": {
            "text/plain": [
              "datetime.datetime(2025, 3, 6, 9, 38, 58, 650986)"
            ]
          },
          "metadata": {},
          "execution_count": 9
        }
      ]
    },
    {
      "cell_type": "code",
      "source": [
        "datetime_obj = datetime.datetime(year= 2023, month=10, day=12, hour=12, minute=23, second=32)"
      ],
      "metadata": {
        "id": "cs7n1AoPz--y"
      },
      "execution_count": 12,
      "outputs": []
    },
    {
      "cell_type": "code",
      "source": [
        "print(datetime_obj)"
      ],
      "metadata": {
        "colab": {
          "base_uri": "https://localhost:8080/"
        },
        "id": "QLnAVrjGFKlT",
        "outputId": "dbec3a41-31e1-4695-8444-bf1d82b625f5"
      },
      "execution_count": 13,
      "outputs": [
        {
          "output_type": "stream",
          "name": "stdout",
          "text": [
            "2023-10-12 12:23:32\n"
          ]
        }
      ]
    },
    {
      "cell_type": "code",
      "source": [
        "type(datetime_obj)"
      ],
      "metadata": {
        "colab": {
          "base_uri": "https://localhost:8080/"
        },
        "id": "BBywD1c8FdQd",
        "outputId": "66e94966-bfb8-497b-a280-4b34b44baae3"
      },
      "execution_count": 14,
      "outputs": [
        {
          "output_type": "execute_result",
          "data": {
            "text/plain": [
              "datetime.datetime"
            ]
          },
          "metadata": {},
          "execution_count": 14
        }
      ]
    },
    {
      "cell_type": "code",
      "source": [
        "print(\"Year\",datetime_obj.year)\n",
        "print(\"month\",datetime_obj.month)\n",
        "print(\"day\",datetime_obj.day)\n",
        "print(\"hour\",datetime_obj.hour)\n",
        "print(\"minute\",datetime_obj.minute)\n",
        "print(\"second\",datetime_obj.second)\n"
      ],
      "metadata": {
        "colab": {
          "base_uri": "https://localhost:8080/"
        },
        "id": "m_UNsx--FfW1",
        "outputId": "80159b50-7dab-4084-b0e9-2b2a66735e4d"
      },
      "execution_count": 16,
      "outputs": [
        {
          "output_type": "stream",
          "name": "stdout",
          "text": [
            "Year 2023\n",
            "month 10\n",
            "day 12\n",
            "hour 12\n",
            "minute 23\n",
            "second 32\n"
          ]
        }
      ]
    },
    {
      "cell_type": "code",
      "source": [],
      "metadata": {
        "id": "NlhUTD7XF0PK"
      },
      "execution_count": null,
      "outputs": []
    }
  ]
}