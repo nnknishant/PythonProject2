{
  "nbformat": 4,
  "nbformat_minor": 0,
  "metadata": {
    "colab": {
      "provenance": [],
      "authorship_tag": "ABX9TyMXnBLT8I8bfG32vH8xrzwa",
      "include_colab_link": true
    },
    "kernelspec": {
      "name": "python3",
      "display_name": "Python 3"
    },
    "language_info": {
      "name": "python"
    }
  },
  "cells": [
    {
      "cell_type": "markdown",
      "metadata": {
        "id": "view-in-github",
        "colab_type": "text"
      },
      "source": [
        "<a href=\"https://colab.research.google.com/github/nnknishant/PythonProject2/blob/master/Python_Codes_for_Interview_Cheatsheet.ipynb\" target=\"_parent\"><img src=\"https://colab.research.google.com/assets/colab-badge.svg\" alt=\"Open In Colab\"/></a>"
      ]
    },
    {
      "cell_type": "code",
      "execution_count": 2,
      "metadata": {
        "colab": {
          "base_uri": "https://localhost:8080/"
        },
        "id": "xpk6Db_QWrzg",
        "outputId": "92e6de69-a297-4044-dee6-a44e5133ab82"
      },
      "outputs": [
        {
          "output_type": "stream",
          "name": "stdout",
          "text": [
            "20\n",
            "<class 'decimal.Decimal'>\n"
          ]
        }
      ],
      "source": [
        "# Converting an integer into  decimals\n",
        "\n",
        "import decimal\n",
        "integer = 20\n",
        "print(decimal.Decimal(integer))\n",
        "print(type(decimal.Decimal(integer)))"
      ]
    },
    {
      "cell_type": "code",
      "source": [
        "number = 40\n",
        "print(decimal.Decimal(number))"
      ],
      "metadata": {
        "colab": {
          "base_uri": "https://localhost:8080/"
        },
        "id": "OKKn7TR2XkrU",
        "outputId": "f8a13cf8-c171-4117-966d-10b57c22b1ff"
      },
      "execution_count": 4,
      "outputs": [
        {
          "output_type": "stream",
          "name": "stdout",
          "text": [
            "40\n"
          ]
        }
      ]
    },
    {
      "cell_type": "code",
      "source": [
        "type(decimal.Decimal(number))"
      ],
      "metadata": {
        "colab": {
          "base_uri": "https://localhost:8080/"
        },
        "id": "nFA8Yn8fX4S5",
        "outputId": "dc8c7487-a767-4fce-9a34-03b0723a9f68"
      },
      "execution_count": 6,
      "outputs": [
        {
          "output_type": "execute_result",
          "data": {
            "text/plain": [
              "decimal.Decimal"
            ]
          },
          "metadata": {},
          "execution_count": 6
        }
      ]
    },
    {
      "cell_type": "code",
      "source": [
        "# Converting string of an integer into decimals\n",
        "\n",
        "import decimal\n",
        "string = '123456'\n",
        "print(decimal.Decimal(string))"
      ],
      "metadata": {
        "colab": {
          "base_uri": "https://localhost:8080/"
        },
        "id": "EeVfLFf5X_WO",
        "outputId": "cf99ebc3-97fe-435b-a462-768a59238873"
      },
      "execution_count": 7,
      "outputs": [
        {
          "output_type": "stream",
          "name": "stdout",
          "text": [
            "123456\n"
          ]
        }
      ]
    },
    {
      "cell_type": "code",
      "source": [
        "type(decimal.Decimal(string))"
      ],
      "metadata": {
        "colab": {
          "base_uri": "https://localhost:8080/"
        },
        "id": "irOXjhGUYQJI",
        "outputId": "2d2331ac-6833-482a-8636-559e8575c008"
      },
      "execution_count": 8,
      "outputs": [
        {
          "output_type": "execute_result",
          "data": {
            "text/plain": [
              "decimal.Decimal"
            ]
          },
          "metadata": {},
          "execution_count": 8
        }
      ]
    },
    {
      "cell_type": "code",
      "source": [
        "# Reverse string using an Extended slicing Technique\n",
        "\n",
        "string = \"python programming\"\n",
        "\n",
        "print(string[::-1])\n"
      ],
      "metadata": {
        "colab": {
          "base_uri": "https://localhost:8080/"
        },
        "id": "RXH7kqVbYUUo",
        "outputId": "050b64a9-0827-496c-f82b-cab4f0947eda"
      },
      "execution_count": 9,
      "outputs": [
        {
          "output_type": "stream",
          "name": "stdout",
          "text": [
            "gnimmargorp nohtyp\n"
          ]
        }
      ]
    },
    {
      "cell_type": "code",
      "source": [
        "print(string[::2])"
      ],
      "metadata": {
        "colab": {
          "base_uri": "https://localhost:8080/"
        },
        "id": "9eb9kmp-ZQP6",
        "outputId": "61d151e7-9350-4e53-8fb4-39fee088485f"
      },
      "execution_count": 10,
      "outputs": [
        {
          "output_type": "stream",
          "name": "stdout",
          "text": [
            "pto rgamn\n"
          ]
        }
      ]
    },
    {
      "cell_type": "code",
      "source": [
        "# Count Vowels into given words\n",
        "\n",
        "vowel = ['a','e', 'i', 'o', 'u']\n",
        "word = \"programming\"\n",
        "\n",
        "for character in word:\n",
        "  print(character)"
      ],
      "metadata": {
        "colab": {
          "base_uri": "https://localhost:8080/"
        },
        "id": "EN4hqpnmZcBg",
        "outputId": "36965e75-49a4-4c22-a069-418f77a66599"
      },
      "execution_count": 11,
      "outputs": [
        {
          "output_type": "stream",
          "name": "stdout",
          "text": [
            "p\n",
            "r\n",
            "o\n",
            "g\n",
            "r\n",
            "a\n",
            "m\n",
            "m\n",
            "i\n",
            "n\n",
            "g\n"
          ]
        }
      ]
    },
    {
      "cell_type": "code",
      "source": [
        "vowel = ['a','e', 'i', 'o', 'u']\n",
        "word = \"programming\"\n",
        "\n",
        "for character in vowel:\n",
        "  print(character)"
      ],
      "metadata": {
        "colab": {
          "base_uri": "https://localhost:8080/"
        },
        "id": "1t0lCU-iZ-VK",
        "outputId": "1bbb7e37-53a9-4206-8a69-9994554aab66"
      },
      "execution_count": 13,
      "outputs": [
        {
          "output_type": "stream",
          "name": "stdout",
          "text": [
            "a\n",
            "e\n",
            "i\n",
            "o\n",
            "u\n"
          ]
        }
      ]
    },
    {
      "cell_type": "code",
      "source": [
        "vowel = ['a','e', 'i', 'o', 'u']\n",
        "word = \"programming\"\n",
        "\n",
        "count = 0\n",
        "\n",
        "for character in word:\n",
        "  if character in vowel:\n",
        "    count += 1\n",
        "print(count)"
      ],
      "metadata": {
        "colab": {
          "base_uri": "https://localhost:8080/"
        },
        "id": "ID64kXVraFDY",
        "outputId": "2d6fe140-2499-4eca-d76f-2856797af6a3"
      },
      "execution_count": 40,
      "outputs": [
        {
          "output_type": "stream",
          "name": "stdout",
          "text": [
            "3\n"
          ]
        }
      ]
    },
    {
      "cell_type": "code",
      "source": [
        "vowel = ['a','e', 'i', 'o', 'u']\n",
        "word = \"programming\"\n",
        "\n",
        "count = 0\n",
        "\n",
        "for character in word:\n",
        "  if character in vowel:\n",
        "    count += 1\n",
        "print(count)"
      ],
      "metadata": {
        "colab": {
          "base_uri": "https://localhost:8080/"
        },
        "id": "FP3I4kXlaaKA",
        "outputId": "c1935961-4d0d-4b34-bc20-b88225e2a37d"
      },
      "execution_count": 41,
      "outputs": [
        {
          "output_type": "stream",
          "name": "stdout",
          "text": [
            "3\n"
          ]
        }
      ]
    },
    {
      "cell_type": "code",
      "source": [
        "# counting the numbe of occurances of a character in string\n",
        "\n",
        "word = \"programming\"\n",
        "character = \"g\"\n",
        "count =0\n",
        "\n",
        "for char in word:\n",
        "  if char == character:\n",
        "    count += 1\n",
        "print(count)"
      ],
      "metadata": {
        "colab": {
          "base_uri": "https://localhost:8080/"
        },
        "id": "vNdAyqWHd44K",
        "outputId": "dcf8e950-bf98-4417-a925-8682c444d0d8"
      },
      "execution_count": 43,
      "outputs": [
        {
          "output_type": "stream",
          "name": "stdout",
          "text": [
            "2\n"
          ]
        }
      ]
    },
    {
      "cell_type": "code",
      "source": [
        "\n",
        "word = \"programming\"\n",
        "character = \"m\"\n",
        "count =0\n",
        "\n",
        "for char in word:\n",
        "  if char == character:\n",
        "    count += 1\n",
        "print(count)"
      ],
      "metadata": {
        "colab": {
          "base_uri": "https://localhost:8080/"
        },
        "id": "4--9WAaJg-vo",
        "outputId": "e986f56d-f274-4d18-8e47-b1b7f67a3154"
      },
      "execution_count": 44,
      "outputs": [
        {
          "output_type": "stream",
          "name": "stdout",
          "text": [
            "2\n"
          ]
        }
      ]
    },
    {
      "cell_type": "code",
      "source": [
        "# writing FIBONACCI in series\n",
        "\n",
        "fib = [0,1]\n",
        "# range start from 0  by default\n",
        "n = 5\n",
        "for i in range(n):\n",
        "  fib.append(fib[-1] + fib[-2])\n",
        "print(i)"
      ],
      "metadata": {
        "colab": {
          "base_uri": "https://localhost:8080/"
        },
        "id": "v0pXkmzJhPdH",
        "outputId": "b8851d58-30c1-43c5-ef9a-cf08ea874824"
      },
      "execution_count": 48,
      "outputs": [
        {
          "output_type": "stream",
          "name": "stdout",
          "text": [
            "4\n"
          ]
        }
      ]
    },
    {
      "cell_type": "code",
      "source": [
        "# Find max number in list\n",
        "\n",
        "numberlist = [12,5,45,16,25,60]\n",
        "max = numberlist[1]\n",
        "for num in numberlist:\n",
        "  if max < num:\n",
        "    max == num\n",
        "print(max)"
      ],
      "metadata": {
        "colab": {
          "base_uri": "https://localhost:8080/"
        },
        "id": "dbTNMYY9jFDH",
        "outputId": "fde853b9-ca25-478e-eca4-775a4feeeed8"
      },
      "execution_count": 55,
      "outputs": [
        {
          "output_type": "stream",
          "name": "stdout",
          "text": [
            "5\n"
          ]
        }
      ]
    },
    {
      "cell_type": "code",
      "source": [
        "# Find min number in a list\n",
        "\n",
        "numberlist2 = [10,20,15,102,45]\n",
        "min  = numberlist2[0]\n",
        "for num in numberlist2:\n",
        "  if min > num:\n",
        "    min = num\n",
        "print(min)\n",
        "\n"
      ],
      "metadata": {
        "colab": {
          "base_uri": "https://localhost:8080/"
        },
        "id": "WvwJTgzFlpWm",
        "outputId": "0711286d-80e1-4153-9bbb-9c258728e343"
      },
      "execution_count": 66,
      "outputs": [
        {
          "output_type": "stream",
          "name": "stdout",
          "text": [
            "10\n"
          ]
        }
      ]
    },
    {
      "cell_type": "code",
      "source": [
        "# Find middle element in the list\n",
        "\n",
        "numlist = [12,3,55,23,6,78,33,5]\n",
        "midelement = int((len(numlist)/2))\n",
        "print(numlist[midelement])\n"
      ],
      "metadata": {
        "colab": {
          "base_uri": "https://localhost:8080/"
        },
        "id": "_w-Ry2kPnu9N",
        "outputId": "55845e77-26c6-416b-84d3-6e4930b8442a"
      },
      "execution_count": 70,
      "outputs": [
        {
          "output_type": "stream",
          "name": "stdout",
          "text": [
            "6\n"
          ]
        }
      ]
    },
    {
      "cell_type": "code",
      "source": [
        "# Converting a list into string\n",
        "list = [\"P\", \"Y\", \"T\",\"H\", \"O\", \"N\"]\n",
        "\n",
        "string = \"\".join(list)\n",
        "\n",
        "print(string)\n",
        "print(type(string))"
      ],
      "metadata": {
        "colab": {
          "base_uri": "https://localhost:8080/"
        },
        "id": "-Fel3NHErR-T",
        "outputId": "68f556f5-ced7-4efb-e177-82fc2e1e2d91"
      },
      "execution_count": 71,
      "outputs": [
        {
          "output_type": "stream",
          "name": "stdout",
          "text": [
            "PYTHON\n",
            "<class 'str'>\n"
          ]
        }
      ]
    },
    {
      "cell_type": "code",
      "source": [
        "type(list)"
      ],
      "metadata": {
        "colab": {
          "base_uri": "https://localhost:8080/"
        },
        "id": "wKa55wmxzk-G",
        "outputId": "a86bb3c2-eb13-4a20-d418-4bebc7d02554"
      },
      "execution_count": 72,
      "outputs": [
        {
          "output_type": "execute_result",
          "data": {
            "text/plain": [
              "list"
            ]
          },
          "metadata": {},
          "execution_count": 72
        }
      ]
    },
    {
      "cell_type": "code",
      "source": [
        "list2 = [\"N\", \"I\", \"S\", \"H\", \"A\", \"N\", \"T\"]\n",
        "\n",
        "string = \"\".join(list2)\n",
        "\n",
        "print(string)"
      ],
      "metadata": {
        "colab": {
          "base_uri": "https://localhost:8080/"
        },
        "id": "A2247JC2zyc2",
        "outputId": "09ec93ae-79db-4de6-8937-559488eff204"
      },
      "execution_count": 74,
      "outputs": [
        {
          "output_type": "stream",
          "name": "stdout",
          "text": [
            "NISHANT\n"
          ]
        }
      ]
    },
    {
      "cell_type": "code",
      "source": [
        "type(string)"
      ],
      "metadata": {
        "colab": {
          "base_uri": "https://localhost:8080/"
        },
        "id": "6PhQ1Auf0531",
        "outputId": "bb3e6a84-ccc0-431b-862c-d55799df3d14"
      },
      "execution_count": 75,
      "outputs": [
        {
          "output_type": "execute_result",
          "data": {
            "text/plain": [
              "str"
            ]
          },
          "metadata": {},
          "execution_count": 75
        }
      ]
    },
    {
      "cell_type": "code",
      "source": [
        "list1 = [1,2,3]\n",
        "list2 = [3,4,5]\n",
        "\n",
        "list = list1+list2\n",
        "print(list)"
      ],
      "metadata": {
        "colab": {
          "base_uri": "https://localhost:8080/"
        },
        "id": "hIe2U0ay1Epc",
        "outputId": "887eb147-9cbc-41a8-c2c8-faaa1e433a40"
      },
      "execution_count": 76,
      "outputs": [
        {
          "output_type": "stream",
          "name": "stdout",
          "text": [
            "[1, 2, 3, 3, 4, 5]\n"
          ]
        }
      ]
    },
    {
      "cell_type": "code",
      "source": [
        "list1 = [1,2,3]\n",
        "list2 = [3,4,5]\n",
        "\n",
        "res_1st = []\n",
        "\n",
        "for i in range(0, len(list1)):\n",
        "  res_1st.append(list1[i]+ list2[i])\n",
        "print(res_1st)"
      ],
      "metadata": {
        "colab": {
          "base_uri": "https://localhost:8080/"
        },
        "id": "XCOF6PAj1RGs",
        "outputId": "b9efa17f-792d-4d90-99a1-954d71cdf1a9"
      },
      "execution_count": 79,
      "outputs": [
        {
          "output_type": "stream",
          "name": "stdout",
          "text": [
            "[4, 6, 8]\n"
          ]
        }
      ]
    },
    {
      "cell_type": "code",
      "source": [
        "list1 = [1,2,3]\n",
        "list2 = [3,4,5]\n",
        "\n",
        "res_1st = []\n",
        "\n",
        "for i in range(0, len(list2)):\n",
        "  res_1st.append(list1[i]+ list2[i])\n",
        "print(res_1st)"
      ],
      "metadata": {
        "colab": {
          "base_uri": "https://localhost:8080/"
        },
        "id": "_QSJBvXc1j7k",
        "outputId": "8a437bf0-a776-4843-de25-55d0a4d31cd1"
      },
      "execution_count": 81,
      "outputs": [
        {
          "output_type": "stream",
          "name": "stdout",
          "text": [
            "[4, 6, 8]\n"
          ]
        }
      ]
    },
    {
      "cell_type": "code",
      "source": [
        "# Counting white space in string\n",
        "\n",
        "string = \"p  r  ogr  amm i  ng\"\n",
        "print(string.count(\" \"))"
      ],
      "metadata": {
        "colab": {
          "base_uri": "https://localhost:8080/"
        },
        "id": "JCWxzqVn2co8",
        "outputId": "a0f7c7b3-db5f-4531-f36c-3d53d9b73e47"
      },
      "execution_count": 84,
      "outputs": [
        {
          "output_type": "stream",
          "name": "stdout",
          "text": [
            "9\n"
          ]
        }
      ]
    },
    {
      "cell_type": "code",
      "source": [
        "string = \"p  y th     on\"\n",
        "print(string.count(\" \"))"
      ],
      "metadata": {
        "colab": {
          "base_uri": "https://localhost:8080/"
        },
        "id": "4zaHip4HNNC-",
        "outputId": "527bab73-86a9-42db-e20d-7b358cd4a390"
      },
      "execution_count": 86,
      "outputs": [
        {
          "output_type": "stream",
          "name": "stdout",
          "text": [
            "8\n"
          ]
        }
      ]
    },
    {
      "cell_type": "code",
      "source": [
        "# Removing all white space in string\n",
        "import re\n",
        "string = \"c o d e\"\n",
        "space = re.compile(r'\\S+')\n",
        "result = re.sub(space, \"\", string)\n",
        "print(result)"
      ],
      "metadata": {
        "colab": {
          "base_uri": "https://localhost:8080/"
        },
        "id": "FdFa21hLNd-u",
        "outputId": "9517a0e4-811e-417e-9360-64f6c3cee377"
      },
      "execution_count": 88,
      "outputs": [
        {
          "output_type": "stream",
          "name": "stdout",
          "text": [
            "   \n"
          ]
        }
      ]
    },
    {
      "cell_type": "code",
      "source": [
        "from random import shuffle\n",
        "\n",
        "lst = [\"Python is easy language\"]\n",
        "shuffle(lst)\n",
        "print(lst)\n"
      ],
      "metadata": {
        "colab": {
          "base_uri": "https://localhost:8080/"
        },
        "id": "CXPYGo0BQAL7",
        "outputId": "c135ff23-1718-4080-b6e9-bb98f0ffb6cd"
      },
      "execution_count": 92,
      "outputs": [
        {
          "output_type": "stream",
          "name": "stdout",
          "text": [
            "['Python is easy language']\n"
          ]
        }
      ]
    },
    {
      "cell_type": "code",
      "source": [
        "type(lst)"
      ],
      "metadata": {
        "colab": {
          "base_uri": "https://localhost:8080/"
        },
        "id": "yFrjUS7wQPKr",
        "outputId": "ebb73556-85de-474a-89b3-c5db369f6433"
      },
      "execution_count": 93,
      "outputs": [
        {
          "output_type": "execute_result",
          "data": {
            "text/plain": [
              "list"
            ]
          },
          "metadata": {},
          "execution_count": 93
        }
      ]
    },
    {
      "cell_type": "code",
      "source": [],
      "metadata": {
        "id": "fv3PvR9TRWrp"
      },
      "execution_count": null,
      "outputs": []
    }
  ]
}